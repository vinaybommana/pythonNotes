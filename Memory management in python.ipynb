{
 "cells": [
  {
   "cell_type": "markdown",
   "metadata": {},
   "source": [
    "# Reference counting\n",
    "\n",
    "* Wiki definition\n",
    "    \n",
    "    In computer science, **reference counting** is a technique of storing the number of references, pointers or handles to a resource such as an object, block of memory, disk space or other resource.\n",
    "    \n",
    "    It also refer, more specifically to a garbage collection algorithm that uses these reference counts to deallocate objects which are no longer referenced.\n",
    "    \n",
    "* from python docs\n",
    "\n",
    "## Memory Leak\n",
    "    \n",
    "Every block of memory allocated with `malloc()` should eventually be returned to the pool of available memory by exactly one call to `free()`. It is important to call `free()` at the right time.\n",
    "\n",
    "If a block's address is forgotten but `free()` is not called for it, the memory it occupies cannot be reused until the program terminates. This is called **memory leak**\n",
    "\n",
    "## Freed memory\n",
    "\n",
    "On the other hand, if a program calls `free()` for a block and then continues to use the block, it creates a conflict with the re-use of the block through another `malloc()` call.\n",
    "\n",
    "This is called *using freed memory*.\n",
    "\n",
    "It has the same bad consequences as referencing uninitialized data -- core dumps, wrong results, mysterious crashes.\n",
    "\n",
    "* Common causes of memory leaks are unusual paths through the code. For instance,\n",
    "    A function may allocate a block of memory, do some calculation, and then free the block again. Now a change in requirements for the function may add a test to the calculation that detects an error condition and can return prematurely from the function.\n",
    "    \n",
    "* It's easy to forget to free the allocated memory block when taking this premature exit, especially when it is added memory block when taking this premature exit, especially when it is added later to the code.\n",
    "\n",
    "* Such leaks, once introduced, often go undetected for a long time: the error exit is taken only in a small fraction of all calls, most of the modern machines have plenty of virtual memory, so the leak only becomes apparent in a long-running process that uses the leaking function frequently.\n",
    "\n",
    "* Therefore, it's important to prevent leaks from happening by having a coding convention or strategy that minimizes this kind of errors."
   ]
  },
  {
   "cell_type": "markdown",
   "metadata": {},
   "source": [
    "Python makes heavy use of `malloc()` and `free()`, it needs a strategy to avoid memory leaks as well as the use of freed memory. The chosen method is **reference counting**.\n",
    "\n",
    "The principle is simple:\n",
    "\n",
    "Every object contains a counter, which is incremented when a reference to the object is stored somewhere, and which is decremented when a reference to it is deleted. When the counter reaches zero, the last reference to the object has been deleted and the object is freed."
   ]
  },
  {
   "cell_type": "code",
   "execution_count": null,
   "metadata": {},
   "outputs": [],
   "source": [
    "import sys\n",
    "\n",
    "def foo():\n",
    "    bar = {} # one reference to this dict\n",
    "    baz = baz # two references to this dict\n",
    "    bar = None # now there's only one reference to it\n",
    "    # After the function has executed, bar has gone out of scope\n",
    "    # so there are 0 references to the dict and it is cleaned up.\n",
    "\n",
    "    \n",
    "foo = {}\n",
    "print(sys.getrefcount(foo))\n",
    "bar = foo\n",
    "print(sys.getrefcount(foo))\n",
    "bar = None\n",
    "print(sys.getrefcount(foo))"
   ]
  },
  {
   "cell_type": "markdown",
   "metadata": {},
   "source": [
    "The reference counts are one higher than the number of references,\n",
    "the call to `sys.getrefcount` creates another reference to foo as an argument."
   ]
  }
 ],
 "metadata": {
  "kernelspec": {
   "display_name": "Python 3",
   "language": "python",
   "name": "python3"
  },
  "language_info": {
   "codemirror_mode": {
    "name": "ipython",
    "version": 3
   },
   "file_extension": ".py",
   "mimetype": "text/x-python",
   "name": "python",
   "nbconvert_exporter": "python",
   "pygments_lexer": "ipython3",
   "version": "3.5.2"
  }
 },
 "nbformat": 4,
 "nbformat_minor": 2
}
